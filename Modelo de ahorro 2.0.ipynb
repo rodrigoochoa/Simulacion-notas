{
 "cells": [
  {
   "cell_type": "markdown",
   "metadata": {},
   "source": [
    "### Rodrigo Ochoa Arámbula IC709633"
   ]
  },
  {
   "cell_type": "code",
   "execution_count": null,
   "metadata": {},
   "outputs": [],
   "source": [
    "import numpy as np\n",
    "import matplotlib.pyplot as plt\n",
    "%matplotlib inline"
   ]
  },
  {
   "cell_type": "code",
   "execution_count": null,
   "metadata": {},
   "outputs": [],
   "source": [
    "# interes, i, C0, capital inicial, K, periodos.\n",
    "def intSimpleCapital (capital, periodos, interes):\n",
    "    return capital * (1 + periodos * interes)"
   ]
  },
  {
   "cell_type": "code",
   "execution_count": null,
   "metadata": {},
   "outputs": [],
   "source": [
    "listaDeInteres = [.05, .1, .15, .2, .5]"
   ]
  },
  {
   "cell_type": "code",
   "execution_count": null,
   "metadata": {},
   "outputs": [],
   "source": [
    "# capital = 10000\n",
    "periodos = 12\n",
    "for interes in listaDeInteres:\n",
    "    print(intSimpleCapital(1000, periodos, interes), end = \" \")"
   ]
  },
  {
   "cell_type": "code",
   "execution_count": null,
   "metadata": {},
   "outputs": [],
   "source": [
    "periodos = [3, 6, 12, 18]\n",
    "colores = [\"black\", \"red\", \"blue\", \"orange\",]\n",
    "plt.figure(figsize = (4,2))\n",
    "for indx, periodo in enumerate(periodos):\n",
    "    for interes in listaDeInteres:\n",
    "        capitalx = intSimpleCapital(1000, periodo, interes)\n",
    "        plt.scatter([periodo], [capitalx], color = colores [indx], s = 5)"
   ]
  },
  {
   "cell_type": "code",
   "execution_count": null,
   "metadata": {},
   "outputs": [],
   "source": [
    "def intCompuestoCapital (capital, periodos, interes):\n",
    "    return capital * (1 + interes)**periodos"
   ]
  },
  {
   "cell_type": "code",
   "execution_count": null,
   "metadata": {},
   "outputs": [],
   "source": [
    "listaDeInteres = [.05, .1, .15, .2, .5]"
   ]
  },
  {
   "cell_type": "code",
   "execution_count": null,
   "metadata": {},
   "outputs": [],
   "source": [
    "# capital = 10000\n",
    "periodos = 12\n",
    "for interes in listaDeInteres:\n",
    "    print(intCompuestoCapital(1000, periodos, interes), end = \" \")"
   ]
  },
  {
   "cell_type": "markdown",
   "metadata": {},
   "source": [
    "periodos = [3, 6, 12, 18]\n",
    "colores = [\"black\", \"red\", \"blue\", \"orange\",]\n",
    "plt.figure(figsize = (4,2))\n",
    "for indx, periodo in enumerate(periodos):\n",
    "    for interes in listaDeInteres:\n",
    "        capitalx = intCompuestoCapital(1000, periodo, interes)\n",
    "        plt.scatter([periodo], [capitalx], color = colores [indx], s = 5)"
   ]
  },
  {
   "cell_type": "markdown",
   "metadata": {},
   "source": [
    "#### Actividad Int Simple"
   ]
  },
  {
   "cell_type": "markdown",
   "metadata": {},
   "source": [
    "¿Qué pasa si el interés no es del 0.8% mensual sino del 1% mensual?\n",
    "¿Qué pasa si la meta no son \\$11000 MXN si no \\$12000 MXN?"
   ]
  },
  {
   "cell_type": "code",
   "execution_count": null,
   "metadata": {},
   "outputs": [],
   "source": [
    "# interes, i, C0, capital inicial, K, periodos.\n",
    "def Nper (c0, ck, interes):\n",
    "    nper = (ck/c0 -1)/interes\n",
    "    if (nper - int(nper)) == 0:\n",
    "        return nper\n",
    "    else:\n",
    "        return int(nper) + 1"
   ]
  },
  {
   "cell_type": "code",
   "execution_count": null,
   "metadata": {},
   "outputs": [],
   "source": [
    "Nper(10000, 11000, .01)"
   ]
  },
  {
   "cell_type": "code",
   "execution_count": null,
   "metadata": {},
   "outputs": [],
   "source": [
    "Nper(10000, 12000, .01)"
   ]
  },
  {
   "cell_type": "markdown",
   "metadata": {},
   "source": [
    "#### Actividad Int Compuestas"
   ]
  },
  {
   "cell_type": "markdown",
   "metadata": {},
   "source": [
    "Modificar el código anterior para dejar fija la meta de ahorro y variar la tasa de interés compuesta."
   ]
  },
  {
   "cell_type": "code",
   "execution_count": null,
   "metadata": {},
   "outputs": [],
   "source": [
    "C = c0 (1+i)**periodos"
   ]
  },
  {
   "cell_type": "code",
   "execution_count": null,
   "metadata": {},
   "outputs": [],
   "source": [
    "C/ c0 = log((1+i)**periodos)\n",
    "= periodos * log(1-i)"
   ]
  },
  {
   "cell_type": "code",
   "execution_count": null,
   "metadata": {},
   "outputs": [],
   "source": [
    "periodos = log (C/c0)/log(1+i)"
   ]
  },
  {
   "cell_type": "code",
   "execution_count": null,
   "metadata": {},
   "outputs": [],
   "source": [
    "import numpy as np\n",
    "def periodosC(capital, meta, interes):\n",
    "    return np.log(meta/capital) / np.log(1 + interes)"
   ]
  },
  {
   "cell_type": "code",
   "execution_count": null,
   "metadata": {},
   "outputs": [],
   "source": [
    "periodosC(1000, 1500, .005)"
   ]
  },
  {
   "cell_type": "code",
   "execution_count": null,
   "metadata": {},
   "outputs": [],
   "source": [
    "def NperComp (c0, ck, interes):\n",
    "    nper = np.log(ck/c0)/np.log(1 + interes)\n",
    "    if (nper - int(nper)) == 0:\n",
    "        return nper\n",
    "    else:\n",
    "        return int(nper) + 1"
   ]
  },
  {
   "cell_type": "code",
   "execution_count": null,
   "metadata": {},
   "outputs": [],
   "source": [
    "NperComp(1000, 1500, .005)"
   ]
  },
  {
   "cell_type": "code",
   "execution_count": null,
   "metadata": {},
   "outputs": [],
   "source": []
  }
 ],
 "metadata": {
  "kernelspec": {
   "display_name": "Python 3",
   "language": "python",
   "name": "python3"
  },
  "language_info": {
   "codemirror_mode": {
    "name": "ipython",
    "version": 3
   },
   "file_extension": ".py",
   "mimetype": "text/x-python",
   "name": "python",
   "nbconvert_exporter": "python",
   "pygments_lexer": "ipython3",
   "version": "3.6.5"
  }
 },
 "nbformat": 4,
 "nbformat_minor": 2
}
